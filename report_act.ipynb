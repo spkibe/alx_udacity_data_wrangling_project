{
 "cells": [
  {
   "cell_type": "markdown",
   "metadata": {},
   "source": [
    "### Analyzing and Visualizing Data"
   ]
  },
  {
   "cell_type": "markdown",
   "metadata": {},
   "source": [
    "### About WeRateDogs \n",
    "> check out this page to learn more about we rate dogs\n",
    "https://links.weratedogs.com/ <br>\n",
    "> There twitter handle here https://twitter.com/dog_rates"
   ]
  },
  {
   "cell_type": "markdown",
   "metadata": {},
   "source": [
    "### Insights"
   ]
  },
  {
   "attachments": {
    "image.png": {
     "image/png": "[encoded data removed]"
    }
   },
   "cell_type": "markdown",
   "metadata": {},
   "source": [
    "### Which dog stage had the highest number of dogs.:\n",
    "\n",
    "Pupper stage was the stage with many dogs in it, approximately 66% pecent of the dogs were at puuer stage. Doggo stage ws the second stage with many numbers of dogs aproxiamtely 20% of the dogs. This is Shown by the data below:\n",
    "\n",
    "|Dog_stage |proportion|\n",
    "|------|------|\n",
    "|pupper      |    0.665574 |\n",
    "|doggo       |    0.203279 |\n",
    "|puppo       |    0.072131 |\n",
    "|doggopupper |   0.029508  |\n",
    "|floofer     |   0.022951  | \n",
    "|doggofloofer|  0.003279   |\n",
    "|doggopuppo  |  0.003279   |\n",
    "\n",
    "\n",
    "### Which Device did most tweets originate from the most.:\n",
    "\n",
    "Iphone was the device that the most tweets originate from, i.e **Twitter for iPhone**, tweets from Iphone was approximately 98% of the tweets. Thus IPhone was the most used device for tweeting on the we rate dogs. This is shown by the table below:\n",
    "\n",
    "|Dog_stage |proportion|\n",
    "|------|------|\n",
    "|Twitter for iPhone   | 0.980866 |\n",
    "|Twitter Web Client   | 0.014099 |\n",
    "|TweetDeck            | 0.005035|\n",
    "\n",
    "### Is retweet count related to favourite count:\n",
    "\n",
    "![image.png](attachment:image.png)\n",
    "\n",
    "Using scatterplot plot above, it showed that the retweet-count has a strong positive corrrelation with favourite count. For instance it tells that the more the likes a tweets gets, the more the retweet it will get.\n",
    "\n",
    "### Which day to people tweet mostly:\n",
    "\n",
    "Monday was the day were people tweet mostly, monday tweets are approximately 16.4% slight high compared to other week days. Weekends seemed people tweet less compared to week days. This is shown by the bargraph below. *nb# The day of the week with Monday=0, Sunday=6.*\n",
    "\n",
    "![image.png](attachment:image.png)\n",
    "\n",
    "### Which hours of the day do people tweet more:\n",
    "\n",
    "Early hours of the day people seemed to tweets more compared to other hours of the day. 01:00hrs had the most tweets, then 00:00hrs and 02:00 hrs respectively. This is shown by the bargraph below:\n",
    "\n",
    "![image.png](attachment:image.png)\n",
    "\n",
    "### What was the mean confidence of neural network in prediction.\n",
    "The mean confidence of the model prediction was at approximately 54.9% . The model perfomance isn't pretty good it needs more data for it's trainging to improve it's perfomance."
   ]
  }
 ],
 "metadata": {
  "kernelspec": {
   "display_name": "Python 3 (ipykernel)",
   "language": "python",
   "name": "python3"
  },
  "language_info": {
   "codemirror_mode": {
    "name": "ipython",
    "version": 3
   },
   "file_extension": ".py",
   "mimetype": "text/x-python",
   "name": "python",
   "nbconvert_exporter": "python",
   "pygments_lexer": "ipython3",
   "version": "3.7.4"
  }
 },
 "nbformat": 4,
 "nbformat_minor": 4
}
